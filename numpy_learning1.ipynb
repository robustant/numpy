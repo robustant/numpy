{
 "cells": [
  {
   "cell_type": "code",
   "execution_count": 2,
   "id": "53b2d052-aec9-4792-abb2-cc770981e3e6",
   "metadata": {},
   "outputs": [],
   "source": [
    "import numpy as np"
   ]
  },
  {
   "cell_type": "markdown",
   "id": "9c393ba8-8b7a-40cc-9418-c6b4233cc871",
   "metadata": {},
   "source": [
    "## 外部写入"
   ]
  },
  {
   "cell_type": "code",
   "execution_count": 7,
   "id": "757992a4-7047-40cb-9af3-2baa6c52d247",
   "metadata": {},
   "outputs": [
    {
     "data": {
      "text/plain": [
       "array([[2020.,   56.],\n",
       "       [2021.,   48.],\n",
       "       [2022.,   78.]])"
      ]
     },
     "execution_count": 7,
     "metadata": {},
     "output_type": "execute_result"
    }
   ],
   "source": [
    "datas = np.genfromtxt('sale_datas.txt',  # 文件名 \n",
    "                      delimiter=',',  # 分隔符\n",
    "                      skip_header=1)  # 跳过第一行\n",
    "datas"
   ]
  },
  {
   "cell_type": "markdown",
   "id": "b9331384-43d1-498f-932c-d9c7f2190740",
   "metadata": {},
   "source": [
    "## 创建数组"
   ]
  },
  {
   "cell_type": "code",
   "execution_count": 12,
   "id": "4c3a8005-45ed-4278-86c6-e3165f9b1e49",
   "metadata": {},
   "outputs": [
    {
     "name": "stdout",
     "output_type": "stream",
     "text": [
      "[1 2 3] <class 'numpy.ndarray'>\n",
      "[1. 2. 3.]\n",
      "[1. 2. 3.]\n",
      "[1 2 3]\n"
     ]
    }
   ],
   "source": [
    "# 一般用列表去创建\n",
    "print(np.array([1,2,3]),type(np.array([1,2,3])))\n",
    "# 向上转换\n",
    "print(np.array([1.0,2,3]))\n",
    "# 自义定数据类型\n",
    "print(np.array([1,2,3],dtype='float32'))\n",
    "# 列表推导式\n",
    "print(np.array([i for i in range(1,4)]))"
   ]
  },
  {
   "cell_type": "code",
   "execution_count": 19,
   "id": "58b16587-a26e-4498-89ab-e7603f982076",
   "metadata": {},
   "outputs": [
    {
     "data": {
      "text/plain": [
       "array([[0, 0, 0],\n",
       "       [0, 0, 0],\n",
       "       [0, 0, 0]])"
      ]
     },
     "execution_count": 19,
     "metadata": {},
     "output_type": "execute_result"
    }
   ],
   "source": [
    "# 全零数组\n",
    "np.zeros([3,3],dtype='int32')"
   ]
  },
  {
   "cell_type": "code",
   "execution_count": 22,
   "id": "53ca811d-a080-4faa-a4c5-2a5b2c95098b",
   "metadata": {},
   "outputs": [
    {
     "data": {
      "text/plain": [
       "array([[1, 1, 1],\n",
       "       [1, 1, 1],\n",
       "       [1, 1, 1]])"
      ]
     },
     "execution_count": 22,
     "metadata": {},
     "output_type": "execute_result"
    }
   ],
   "source": [
    "# 全一数组\n",
    "np.ones([3,3],dtype='int32')"
   ]
  },
  {
   "cell_type": "code",
   "execution_count": 23,
   "id": "534eeea0-9f6d-44bd-b770-dddb27bc5e32",
   "metadata": {},
   "outputs": [
    {
     "data": {
      "text/plain": [
       "array([[3, 3, 3],\n",
       "       [3, 3, 3],\n",
       "       [3, 3, 3]])"
      ]
     },
     "execution_count": 23,
     "metadata": {},
     "output_type": "execute_result"
    }
   ],
   "source": [
    "# 全是一个特定值数组\n",
    "np.full([3,3],3)"
   ]
  },
  {
   "cell_type": "code",
   "execution_count": 24,
   "id": "89b9addc-7127-4866-8aed-5c477ab065b4",
   "metadata": {},
   "outputs": [
    {
     "data": {
      "text/plain": [
       "array([1, 3, 5, 7, 9])"
      ]
     },
     "execution_count": 24,
     "metadata": {},
     "output_type": "execute_result"
    }
   ],
   "source": [
    "# 线性定步长数组\n",
    "np.arange(1,10,2)"
   ]
  },
  {
   "cell_type": "code",
   "execution_count": 25,
   "id": "2bd4468c-da42-437e-9650-a1c92d093edc",
   "metadata": {},
   "outputs": [
    {
     "data": {
      "text/plain": [
       "array([ 1.  ,  3.25,  5.5 ,  7.75, 10.  ])"
      ]
     },
     "execution_count": 25,
     "metadata": {},
     "output_type": "execute_result"
    }
   ],
   "source": [
    "# 线性定长数组\n",
    "np.linspace(1,10,5)"
   ]
  },
  {
   "cell_type": "code",
   "execution_count": 26,
   "id": "b0a0783a-cadf-4873-87e7-e89fcdb75463",
   "metadata": {},
   "outputs": [
    {
     "data": {
      "text/plain": [
       "array([[1., 0., 0.],\n",
       "       [0., 1., 0.],\n",
       "       [0., 0., 1.]])"
      ]
     },
     "execution_count": 26,
     "metadata": {},
     "output_type": "execute_result"
    }
   ],
   "source": [
    "# 单位矩阵\n",
    "np.eye(3)"
   ]
  },
  {
   "cell_type": "code",
   "execution_count": 28,
   "id": "d7f44af5-578e-4e81-b3ed-13a2cca8e218",
   "metadata": {},
   "outputs": [
    {
     "data": {
      "text/plain": [
       "array([[0.59293684, 0.49771022, 0.48960677],\n",
       "       [0.03606951, 0.49223748, 0.5821016 ],\n",
       "       [0.64193147, 0.54725748, 0.93691189]])"
      ]
     },
     "execution_count": 28,
     "metadata": {},
     "output_type": "execute_result"
    }
   ],
   "source": [
    "# 随机0-1均匀分布\n",
    "np.random.random([3,3])"
   ]
  },
  {
   "cell_type": "code",
   "execution_count": 29,
   "id": "44beee74-84bd-49cf-b872-b85e9e736530",
   "metadata": {},
   "outputs": [
    {
     "data": {
      "text/plain": [
       "array([[-0.00501102,  0.40129366,  0.99769825],\n",
       "       [-0.67094819, -1.12539403, -0.69537214],\n",
       "       [ 0.0060821 , -1.38601887,  0.54184239]])"
      ]
     },
     "execution_count": 29,
     "metadata": {},
     "output_type": "execute_result"
    }
   ],
   "source": [
    "# 随机正态分布数组(均值0，标准差1,)\n",
    "np.random.normal(0,1,[3,3])"
   ]
  },
  {
   "cell_type": "code",
   "execution_count": 30,
   "id": "33b94b0e-6282-4a39-9307-c804da863a50",
   "metadata": {},
   "outputs": [
    {
     "data": {
      "text/plain": [
       "array([[6, 1, 6],\n",
       "       [8, 1, 3],\n",
       "       [0, 2, 5]])"
      ]
     },
     "execution_count": 30,
     "metadata": {},
     "output_type": "execute_result"
    }
   ],
   "source": [
    "# 随机0-10的整数数组\n",
    "np.random.randint(0,10,[3,3])"
   ]
  },
  {
   "cell_type": "code",
   "execution_count": 35,
   "id": "db8a88ae-436a-48e8-b9ec-7a9e2a90dbb9",
   "metadata": {},
   "outputs": [
    {
     "data": {
      "text/plain": [
       "array([[0.00501102, 0.40129366, 0.99769825],\n",
       "       [0.67094819, 1.12539403, 0.69537214],\n",
       "       [0.0060821 , 1.38601887, 0.54184239]])"
      ]
     },
     "execution_count": 35,
     "metadata": {},
     "output_type": "execute_result"
    }
   ],
   "source": [
    "# 内存空间任意满足条件的数组\n",
    "np.empty([3,3])"
   ]
  },
  {
   "cell_type": "markdown",
   "id": "cd7a1a42-c429-4b62-9a31-990109531dfb",
   "metadata": {},
   "source": [
    "## 操作数组"
   ]
  },
  {
   "cell_type": "markdown",
   "id": "e76b050e-e3a4-4897-95e7-7fce2fa1a0a2",
   "metadata": {},
   "source": [
    "+ 查看数组属性：ndim、shape、size"
   ]
  },
  {
   "cell_type": "code",
   "execution_count": 43,
   "id": "60aa0e80-4963-4727-9765-961838423627",
   "metadata": {},
   "outputs": [
    {
     "name": "stdout",
     "output_type": "stream",
     "text": [
      "x3 ndim: 3\n",
      "x3 shape: (3, 4, 5)\n",
      "x3 size: 60\n",
      "x3 dtype: int32\n",
      "itemsize: 4 bytes\n",
      "x3 nbytes: 240 bytes\n"
     ]
    }
   ],
   "source": [
    "np.random.seed(1)  # 设置随机种子\n",
    "x1 = np.random.randint(10,size=6)  # 一维数组\n",
    "x2 = np.random.randint(10,size=[3,4])  # 二维数组\n",
    "x3 = np.random.randint(10,size=[3,4,5])  # 三维数组\n",
    "\n",
    "print('x3 ndim:',x3.ndim)  # 查看有几维度\n",
    "print('x3 shape:',x3.shape)  # 查看每个维度的大小\n",
    "print('x3 size:',x3.size)  # 查看元素个数\n",
    "\n",
    "print('x3 dtype:',x3.dtype)  # 查看数组里面元素类型\n",
    "print('itemsize:',x3.itemsize,'bytes')  # 查看数组里面的元素字节大小\n",
    "print('x3 nbytes:',x3.nbytes,'bytes')  # 查看数组总字节大小"
   ]
  },
  {
   "cell_type": "markdown",
   "id": "e8831c52-e9ad-495e-ab00-b5e294e9b797",
   "metadata": {},
   "source": [
    "+ 索引（点）&切片（片）"
   ]
  },
  {
   "cell_type": "code",
   "execution_count": 55,
   "id": "3c3c0dd0-6478-4a30-b091-554da558dfcc",
   "metadata": {},
   "outputs": [
    {
     "name": "stdout",
     "output_type": "stream",
     "text": [
      "x1第1个元素: 1\n",
      "x1的1-3个元素: [1 2 3]\n",
      "x2第1行1列个元素: 5\n",
      "x2的2列3列所有元素:\n",
      " [[6 7]\n",
      " [1 3]]\n",
      "x3第1维1行1列个元素: 1\n",
      "x3的所有维2列3列元素:\n",
      " [[[3 4]\n",
      "  [9 3]]\n",
      "\n",
      " [[5 7]\n",
      "  [1 5]]]\n",
      "原x1: [1 2 3 4]\n",
      "修改后: [9 2 3 4]\n"
     ]
    }
   ],
   "source": [
    "# python从0开始计数\n",
    "x1 = np.array([1,2,3,4])# 一维数组\n",
    "x2 = np.array([[5,6,7,8],\n",
    "               [9,1,3,2]])  # 二维数组\n",
    "x3 = np.array([[[1,3,4,5],\n",
    "                [6,9,3,4]],\n",
    "               \n",
    "               [[2,5,7,9],\n",
    "                [6,1,5,2]]])  # 三维数组\n",
    "\n",
    "print('x1第1个元素:',x1[0])\n",
    "print('x1的1-3个元素:',x1[0:3])\n",
    "\n",
    "print('x2第1行1列个元素:',x2[0,0])\n",
    "print('x2的2列3列所有元素:\\n',x2[:,1:3])\n",
    "\n",
    "print('x3第1维1行1列个元素:',x3[0,0,0])\n",
    "print('x3的所有维2列3列元素:\\n',x3[:,:,1:3])\n",
    "\n",
    "# 利用索引修改值\n",
    "print('原x1:',x1)\n",
    "x1[0] = 9\n",
    "print('修改后:',x1)"
   ]
  },
  {
   "cell_type": "code",
   "execution_count": 56,
   "id": "a548cd48-7648-4499-b312-959d36640f2f",
   "metadata": {},
   "outputs": [
    {
     "data": {
      "text/plain": [
       "array([4, 3, 2, 9])"
      ]
     },
     "execution_count": 56,
     "metadata": {},
     "output_type": "execute_result"
    }
   ],
   "source": [
    "# 逆序\n",
    "x1 = x1[::-1]\n",
    "x1"
   ]
  },
  {
   "cell_type": "markdown",
   "id": "57a0f75d-3ab8-43f3-ae0d-c363fd96651a",
   "metadata": {},
   "source": [
    "numpy里面切片出来的是视图，视图修改原原数据也会被修改，<br>\n",
    "意味着处理大型数据集时，可以获取要修改的片段进行修改，达到减小开销的作用"
   ]
  },
  {
   "cell_type": "code",
   "execution_count": 57,
   "id": "6f698593-5d8a-4247-8d8b-6ce6d80a683b",
   "metadata": {},
   "outputs": [
    {
     "data": {
      "text/plain": [
       "array([4, 3, 2, 9])"
      ]
     },
     "execution_count": 57,
     "metadata": {},
     "output_type": "execute_result"
    }
   ],
   "source": [
    "# 创建副本是单独的方法\n",
    "x1_duplicate = x1.copy()\n",
    "x1_duplicate"
   ]
  },
  {
   "cell_type": "markdown",
   "id": "7a667183-6733-4e30-abe9-5e52d64076b3",
   "metadata": {},
   "source": [
    "+ 变形"
   ]
  },
  {
   "cell_type": "code",
   "execution_count": 67,
   "id": "67222407-f892-4085-9f0c-729b46e27002",
   "metadata": {},
   "outputs": [
    {
     "name": "stdout",
     "output_type": "stream",
     "text": [
      "example1: [1 2 3 4 5 6 7 8 9] (9,)\n",
      "\n",
      "example2:\n",
      " [[1 2 3]\n",
      " [4 5 6]\n",
      " [7 8 9]] (3, 3)\n",
      "\n",
      "example3: [[1 2 3 4 5 6 7 8 9]] (1, 9)\n",
      "\n",
      "example4: [[1]\n",
      " [2]\n",
      " [3]\n",
      " [4]\n",
      " [5]\n",
      " [6]\n",
      " [7]\n",
      " [8]\n",
      " [9]] (9, 1)\n"
     ]
    }
   ],
   "source": [
    "# 法一reshape\n",
    "example1 = np.arange(1,10)\n",
    "print('example1:',example1,example1.shape)\n",
    "\n",
    "print()\n",
    "\n",
    "example2 = example.reshape(3,3)\n",
    "print('example2:\\n',example2,example2.shape)\n",
    "\n",
    "print()\n",
    "\n",
    "example3 = example.reshape(1,9)\n",
    "print('example3:',example3,example3.shape)\n",
    "\n",
    "print()\n",
    "\n",
    "example4 = example.reshape(9,1)\n",
    "print('example4:',example4,example4.shape)"
   ]
  },
  {
   "cell_type": "code",
   "execution_count": 91,
   "id": "fe9e4c7d-2b25-472f-b9cd-20c544364d66",
   "metadata": {},
   "outputs": [
    {
     "data": {
      "text/plain": [
       "array([[1],\n",
       "       [2],\n",
       "       [3],\n",
       "       [4],\n",
       "       [5],\n",
       "       [6],\n",
       "       [7],\n",
       "       [8],\n",
       "       [9]])"
      ]
     },
     "execution_count": 91,
     "metadata": {},
     "output_type": "execute_result"
    }
   ],
   "source": [
    "# 法二newaxis(以现有元素数目新加一个维度)\n",
    "example1[:,np.newaxis]"
   ]
  },
  {
   "cell_type": "code",
   "execution_count": 92,
   "id": "9b62b432-6b13-4998-93f0-1163bf407e2f",
   "metadata": {},
   "outputs": [
    {
     "data": {
      "text/plain": [
       "(9, 1)"
      ]
     },
     "execution_count": 92,
     "metadata": {},
     "output_type": "execute_result"
    }
   ],
   "source": [
    "example1[:,np.newaxis].shape"
   ]
  },
  {
   "cell_type": "markdown",
   "id": "bfc5cd37-d9c8-4afb-96ac-1c9c31a28ac3",
   "metadata": {},
   "source": [
    "+ 拼接"
   ]
  },
  {
   "cell_type": "code",
   "execution_count": 12,
   "id": "a8a09958-e834-4a57-8e84-64133056ac63",
   "metadata": {},
   "outputs": [],
   "source": [
    "x = np.array([[1,2,3],\n",
    "              [1,2,3]])\n",
    "y = np.array([[4,5,6],\n",
    "              [4,5,6]])\n",
    "z = np.array([[7,8,9],\n",
    "              [7,8,9]])"
   ]
  },
  {
   "cell_type": "code",
   "execution_count": 13,
   "id": "3e661f26-49ae-4cd2-9bdf-02219dccd0d3",
   "metadata": {},
   "outputs": [
    {
     "data": {
      "text/plain": [
       "array([[1, 2, 3],\n",
       "       [1, 2, 3],\n",
       "       [4, 5, 6],\n",
       "       [4, 5, 6],\n",
       "       [7, 8, 9],\n",
       "       [7, 8, 9]])"
      ]
     },
     "execution_count": 13,
     "metadata": {},
     "output_type": "execute_result"
    }
   ],
   "source": [
    "# 法一\n",
    "np.concatenate([x,y,z],axis=0)  #  垂直拼接"
   ]
  },
  {
   "cell_type": "code",
   "execution_count": 15,
   "id": "166f24f3-da96-40f2-85c5-59644fa826b8",
   "metadata": {},
   "outputs": [
    {
     "data": {
      "text/plain": [
       "array([[1, 2, 3, 4, 5, 6, 7, 8, 9],\n",
       "       [1, 2, 3, 4, 5, 6, 7, 8, 9]])"
      ]
     },
     "execution_count": 15,
     "metadata": {},
     "output_type": "execute_result"
    }
   ],
   "source": [
    "np.concatenate([x,y,z],axis=1)  # 水平拼接"
   ]
  },
  {
   "cell_type": "code",
   "execution_count": 16,
   "id": "7e3ea8b7-b445-4e03-98c3-b22554832195",
   "metadata": {},
   "outputs": [
    {
     "data": {
      "text/plain": [
       "array([[1, 2, 3],\n",
       "       [1, 2, 3],\n",
       "       [4, 5, 6],\n",
       "       [4, 5, 6],\n",
       "       [7, 8, 9],\n",
       "       [7, 8, 9]])"
      ]
     },
     "execution_count": 16,
     "metadata": {},
     "output_type": "execute_result"
    }
   ],
   "source": [
    "np.vstack([x,y,z])  # 垂直拼接"
   ]
  },
  {
   "cell_type": "code",
   "execution_count": 17,
   "id": "fcbd3b1e-f469-40d9-ad01-859598735885",
   "metadata": {},
   "outputs": [
    {
     "data": {
      "text/plain": [
       "array([[1, 2, 3, 4, 5, 6, 7, 8, 9],\n",
       "       [1, 2, 3, 4, 5, 6, 7, 8, 9]])"
      ]
     },
     "execution_count": 17,
     "metadata": {},
     "output_type": "execute_result"
    }
   ],
   "source": [
    "np.hstack([x,y,z])  # 水平拼接"
   ]
  },
  {
   "cell_type": "code",
   "execution_count": 34,
   "id": "0b957b40-41cb-491c-8df6-c249f25d2a54",
   "metadata": {},
   "outputs": [
    {
     "data": {
      "text/plain": [
       "array([[[1, 2, 3, 4, 5, 6],\n",
       "        [1, 2, 3, 4, 5, 6]],\n",
       "\n",
       "       [[1, 1, 1, 2, 2, 2],\n",
       "        [2, 2, 2, 3, 3, 3]]])"
      ]
     },
     "execution_count": 34,
     "metadata": {},
     "output_type": "execute_result"
    }
   ],
   "source": [
    "m = np.array([[[1,2,3],\n",
    "               [1,2,3]],\n",
    "             \n",
    "              [[1,1,1],\n",
    "               [2,2,2]]])\n",
    "n = np.array([[[4,5,6],\n",
    "               [4,5,6]],\n",
    "             \n",
    "              [[2,2,2],\n",
    "               [3,3,3]]])\n",
    "\n",
    "np.dstack([m,n])  # 深度拼接"
   ]
  },
  {
   "cell_type": "markdown",
   "id": "ed7300e6-5d7e-488e-812d-9d6c6dac9769",
   "metadata": {},
   "source": [
    "+ 分裂(拼接的逆)"
   ]
  },
  {
   "cell_type": "code",
   "execution_count": 45,
   "id": "206c7f85-aec7-48ef-88b1-1e5fea3d38e6",
   "metadata": {},
   "outputs": [
    {
     "data": {
      "text/plain": [
       "(array([[1, 2, 3, 4, 5]]), array([[5, 6, 7, 8, 9]]), array([[1, 2, 3, 4, 5]]))"
      ]
     },
     "execution_count": 45,
     "metadata": {},
     "output_type": "execute_result"
    }
   ],
   "source": [
    "x = np.array([[1,2,3,4,5],\n",
    "              [5,6,7,8,9],\n",
    "              [1,2,3,4,5]])\n",
    "x1,x2,x3 = np.split(x,[1,2])  # 垂直分割\n",
    "x1,x2,x3"
   ]
  },
  {
   "cell_type": "code",
   "execution_count": 48,
   "id": "ced360ca-bf3a-4bb4-ab9a-d4b2e7a6566b",
   "metadata": {},
   "outputs": [
    {
     "data": {
      "text/plain": [
       "(array([[1, 2],\n",
       "        [5, 6],\n",
       "        [1, 2]]),\n",
       " array([[3, 4],\n",
       "        [7, 8],\n",
       "        [3, 4]]),\n",
       " array([[5],\n",
       "        [9],\n",
       "        [5]]))"
      ]
     },
     "execution_count": 48,
     "metadata": {},
     "output_type": "execute_result"
    }
   ],
   "source": [
    "x1,x2,x3 = np.split(x,[2,4],axis=1)  # 水平分割\n",
    "x1,x2,x3"
   ]
  },
  {
   "cell_type": "code",
   "execution_count": 49,
   "id": "17783ea5-bd29-4679-98a9-09e377b16bca",
   "metadata": {},
   "outputs": [
    {
     "data": {
      "text/plain": [
       "(array([[1, 2, 3, 4, 5]]), array([[5, 6, 7, 8, 9]]), array([[1, 2, 3, 4, 5]]))"
      ]
     },
     "execution_count": 49,
     "metadata": {},
     "output_type": "execute_result"
    }
   ],
   "source": [
    "x1,x2,x3 = np.vsplit(x,[1,2])  # 垂直分割\n",
    "x1,x2,x3"
   ]
  },
  {
   "cell_type": "code",
   "execution_count": 51,
   "id": "32be3fdc-8a24-43c1-9136-1eeb72eae54e",
   "metadata": {},
   "outputs": [
    {
     "data": {
      "text/plain": [
       "(array([[1, 2],\n",
       "        [5, 6],\n",
       "        [1, 2]]),\n",
       " array([[3, 4],\n",
       "        [7, 8],\n",
       "        [3, 4]]),\n",
       " array([[5],\n",
       "        [9],\n",
       "        [5]]))"
      ]
     },
     "execution_count": 51,
     "metadata": {},
     "output_type": "execute_result"
    }
   ],
   "source": [
    "x1,x2,x3 = np.hsplit(x,[2,4])  # 水平分割\n",
    "x1,x2,x3"
   ]
  },
  {
   "cell_type": "code",
   "execution_count": 59,
   "id": "5ae12614-67a0-4c4b-a0e7-7bde6cd4f5b7",
   "metadata": {},
   "outputs": [
    {
     "data": {
      "text/plain": [
       "[array([[[4],\n",
       "         [4]],\n",
       " \n",
       "        [[2],\n",
       "         [3]]]),\n",
       " array([[[5],\n",
       "         [5]],\n",
       " \n",
       "        [[2],\n",
       "         [3]]]),\n",
       " array([[[6],\n",
       "         [6]],\n",
       " \n",
       "        [[2],\n",
       "         [3]]])]"
      ]
     },
     "execution_count": 59,
     "metadata": {},
     "output_type": "execute_result"
    }
   ],
   "source": [
    "x = np.array([[[4,5,6],\n",
    "               [4,5,6]],\n",
    "             \n",
    "              [[2,2,2],\n",
    "               [3,3,3]]])\n",
    "\n",
    "np.dsplit(x,[1,2])  # 深度分割"
   ]
  },
  {
   "cell_type": "code",
   "execution_count": null,
   "id": "67f289b1-8181-4f26-9c23-eb13cbf010ab",
   "metadata": {},
   "outputs": [],
   "source": []
  }
 ],
 "metadata": {
  "kernelspec": {
   "display_name": "Python 3",
   "language": "python",
   "name": "python3"
  },
  "language_info": {
   "codemirror_mode": {
    "name": "ipython",
    "version": 3
   },
   "file_extension": ".py",
   "mimetype": "text/x-python",
   "name": "python",
   "nbconvert_exporter": "python",
   "pygments_lexer": "ipython3",
   "version": "3.8.8"
  }
 },
 "nbformat": 4,
 "nbformat_minor": 5
}
