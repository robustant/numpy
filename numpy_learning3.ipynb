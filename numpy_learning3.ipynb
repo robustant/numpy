{
 "cells": [
  {
   "cell_type": "markdown",
   "id": "9c50b738-78af-41c9-9d28-69e76d65349c",
   "metadata": {},
   "source": [
    "## 聚合函数&基本统计函数"
   ]
  },
  {
   "cell_type": "code",
   "execution_count": 1,
   "id": "100a580a-be21-4b0e-bed4-cb18d8726cb3",
   "metadata": {},
   "outputs": [],
   "source": [
    "import numpy as np"
   ]
  },
  {
   "cell_type": "code",
   "execution_count": 2,
   "id": "9a5f1008-8923-4a6b-ab81-116c282b9b4e",
   "metadata": {},
   "outputs": [
    {
     "data": {
      "text/plain": [
       "15"
      ]
     },
     "execution_count": 2,
     "metadata": {},
     "output_type": "execute_result"
    }
   ],
   "source": [
    "# 求和\n",
    "x = np.arange(1,6)\n",
    "np.add.reduce(x)"
   ]
  },
  {
   "cell_type": "code",
   "execution_count": 4,
   "id": "ceb45833-8138-421a-928c-514e1792ac42",
   "metadata": {},
   "outputs": [
    {
     "data": {
      "text/plain": [
       "120"
      ]
     },
     "execution_count": 4,
     "metadata": {},
     "output_type": "execute_result"
    }
   ],
   "source": [
    "# 求所有元素的乘积\n",
    "np.multiply.reduce(x)"
   ]
  },
  {
   "cell_type": "code",
   "execution_count": 7,
   "id": "48cce09c-e994-46f1-8392-ff07211cbe42",
   "metadata": {},
   "outputs": [
    {
     "data": {
      "text/plain": [
       "array([[ 1,  2,  3,  4,  5,  6,  7,  8,  9],\n",
       "       [ 2,  4,  6,  8, 10, 12, 14, 16, 18],\n",
       "       [ 3,  6,  9, 12, 15, 18, 21, 24, 27],\n",
       "       [ 4,  8, 12, 16, 20, 24, 28, 32, 36],\n",
       "       [ 5, 10, 15, 20, 25, 30, 35, 40, 45],\n",
       "       [ 6, 12, 18, 24, 30, 36, 42, 48, 54],\n",
       "       [ 7, 14, 21, 28, 35, 42, 49, 56, 63],\n",
       "       [ 8, 16, 24, 32, 40, 48, 56, 64, 72],\n",
       "       [ 9, 18, 27, 36, 45, 54, 63, 72, 81]])"
      ]
     },
     "execution_count": 7,
     "metadata": {},
     "output_type": "execute_result"
    }
   ],
   "source": [
    "# 外积(九九乘法表)\n",
    "n = np.arange(1,10)\n",
    "np.multiply.outer(n,n)"
   ]
  },
  {
   "cell_type": "code",
   "execution_count": 46,
   "id": "0a83d89a-1050-4c95-b78e-d1dd8dfc0675",
   "metadata": {},
   "outputs": [
    {
     "data": {
      "text/plain": [
       "array([[3, 7, 9, 3, 6],\n",
       "       [4, 2, 4, 2, 4],\n",
       "       [7, 5, 9, 8, 3],\n",
       "       [4, 3, 6, 3, 9]])"
      ]
     },
     "execution_count": 46,
     "metadata": {},
     "output_type": "execute_result"
    }
   ],
   "source": [
    "one = np.random.randint(1,10,[4,5])\n",
    "one"
   ]
  },
  {
   "cell_type": "code",
   "execution_count": 47,
   "id": "2403ef55-0026-4ad8-8840-46484d42ca5e",
   "metadata": {},
   "outputs": [
    {
     "data": {
      "text/plain": [
       "array([18, 17, 28, 16, 22])"
      ]
     },
     "execution_count": 47,
     "metadata": {},
     "output_type": "execute_result"
    }
   ],
   "source": [
    "# 求和\n",
    "np.sum(one,axis=0)  # 按列求和"
   ]
  },
  {
   "cell_type": "code",
   "execution_count": 48,
   "id": "4e039646-ccaa-49b5-bf78-585f06fa71ed",
   "metadata": {},
   "outputs": [
    {
     "data": {
      "text/plain": [
       "array([28, 16, 32, 25])"
      ]
     },
     "execution_count": 48,
     "metadata": {},
     "output_type": "execute_result"
    }
   ],
   "source": [
    "np.sum(one,axis=1)  # 按行求和"
   ]
  },
  {
   "cell_type": "code",
   "execution_count": 49,
   "id": "02a3ce8e-a503-4104-b22a-9b2a482dd082",
   "metadata": {},
   "outputs": [
    {
     "data": {
      "text/plain": [
       "array([7, 7, 9, 8, 9])"
      ]
     },
     "execution_count": 49,
     "metadata": {},
     "output_type": "execute_result"
    }
   ],
   "source": [
    "# 求最值\n",
    "np.max(one,axis=0)  # 按列求"
   ]
  },
  {
   "cell_type": "code",
   "execution_count": 50,
   "id": "1f90d626-2176-44d6-b460-146799c422f3",
   "metadata": {},
   "outputs": [
    {
     "data": {
      "text/plain": [
       "array([9, 4, 9, 9])"
      ]
     },
     "execution_count": 50,
     "metadata": {},
     "output_type": "execute_result"
    }
   ],
   "source": [
    "np.max(one,axis=1)  # 按行求"
   ]
  },
  {
   "cell_type": "code",
   "execution_count": 51,
   "id": "c82630fb-c03e-47e8-bd0d-ea91fbe99498",
   "metadata": {},
   "outputs": [
    {
     "data": {
      "text/plain": [
       "9"
      ]
     },
     "execution_count": 51,
     "metadata": {},
     "output_type": "execute_result"
    }
   ],
   "source": [
    "np.max(one)  # 求所有元素最大值"
   ]
  },
  {
   "cell_type": "code",
   "execution_count": 52,
   "id": "607ce529-92a9-4f75-9f69-7e0a4b6445e9",
   "metadata": {},
   "outputs": [
    {
     "data": {
      "text/plain": [
       "array([2, 0, 0, 2, 3], dtype=int64)"
      ]
     },
     "execution_count": 52,
     "metadata": {},
     "output_type": "execute_result"
    }
   ],
   "source": [
    "# 取最值索引\n",
    "np.argmax(one,axis=0)  # 按列取"
   ]
  },
  {
   "cell_type": "code",
   "execution_count": 53,
   "id": "4799ce94-428e-4de7-9a89-04888e4e0914",
   "metadata": {},
   "outputs": [
    {
     "data": {
      "text/plain": [
       "array([2, 0, 2, 4], dtype=int64)"
      ]
     },
     "execution_count": 53,
     "metadata": {},
     "output_type": "execute_result"
    }
   ],
   "source": [
    "np.argmax(one,axis=1)  # 按行取"
   ]
  },
  {
   "cell_type": "code",
   "execution_count": 55,
   "id": "4e75f9d6-8502-436a-8b04-df0a5fa76be6",
   "metadata": {},
   "outputs": [
    {
     "data": {
      "text/plain": [
       "2"
      ]
     },
     "execution_count": 55,
     "metadata": {},
     "output_type": "execute_result"
    }
   ],
   "source": [
    "np.argmax(one)  # 求所有元素最大值索引(按行从0数)"
   ]
  },
  {
   "cell_type": "code",
   "execution_count": 57,
   "id": "27a27bd9-689b-4615-bff5-281aad4e2621",
   "metadata": {},
   "outputs": [
    {
     "data": {
      "text/plain": [
       "True"
      ]
     },
     "execution_count": 57,
     "metadata": {},
     "output_type": "execute_result"
    }
   ],
   "source": [
    "# 判断是否存在元素为真\n",
    "np.any(one)"
   ]
  },
  {
   "cell_type": "code",
   "execution_count": 58,
   "id": "cb661957-c582-4a48-820d-f61705f458fc",
   "metadata": {},
   "outputs": [
    {
     "data": {
      "text/plain": [
       "True"
      ]
     },
     "execution_count": 58,
     "metadata": {},
     "output_type": "execute_result"
    }
   ],
   "source": [
    "# 判断是否所有元素为真\n",
    "np.all(one)"
   ]
  },
  {
   "cell_type": "markdown",
   "id": "b06d0142-c7f1-46f1-8968-049f08fabb82",
   "metadata": {},
   "source": [
    "一些具有缺失值的数组运算时可以在聚合函数前加一个nan"
   ]
  },
  {
   "cell_type": "code",
   "execution_count": null,
   "id": "abca3902-5c04-4981-b9a8-66e75d22ece5",
   "metadata": {},
   "outputs": [],
   "source": []
  }
 ],
 "metadata": {
  "kernelspec": {
   "display_name": "Python 3",
   "language": "python",
   "name": "python3"
  },
  "language_info": {
   "codemirror_mode": {
    "name": "ipython",
    "version": 3
   },
   "file_extension": ".py",
   "mimetype": "text/x-python",
   "name": "python",
   "nbconvert_exporter": "python",
   "pygments_lexer": "ipython3",
   "version": "3.8.8"
  }
 },
 "nbformat": 4,
 "nbformat_minor": 5
}
