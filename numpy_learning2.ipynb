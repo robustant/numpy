{
 "cells": [
  {
   "cell_type": "markdown",
   "id": "da506970-d212-47c9-b402-6c7336a3f213",
   "metadata": {},
   "source": [
    "# numpy通用函数(向量化操作)"
   ]
  },
  {
   "cell_type": "code",
   "execution_count": 15,
   "id": "d09ebb00-2cf4-4966-8928-1bd434eba147",
   "metadata": {},
   "outputs": [],
   "source": [
    "import numpy as np\n",
    "import matplotlib.pyplot as plt"
   ]
  },
  {
   "cell_type": "code",
   "execution_count": null,
   "id": "159a133d-192f-4cdf-9595-3fda46aaaf4b",
   "metadata": {},
   "outputs": [],
   "source": [
    "np.random.seed(0)\n",
    "# 定义一个取倒数的函数\n",
    "def compute_reciprocals(values):\n",
    "    output = np.empty(len(values))\n",
    "    for i in range(len(values)):\n",
    "        output[i] = 1 / values[i]\n",
    "    return output"
   ]
  },
  {
   "cell_type": "code",
   "execution_count": 7,
   "id": "1fc95d06-4f28-4ae8-89f7-ede5fda8904d",
   "metadata": {},
   "outputs": [
    {
     "name": "stdout",
     "output_type": "stream",
     "text": [
      "1.9 µs ± 9.23 ns per loop (mean ± std. dev. of 7 runs, 1000000 loops each)\n"
     ]
    }
   ],
   "source": [
    "values= np.random.randint(1,10,size=5)\n",
    "%timeit compute_reciprocals(values)"
   ]
  },
  {
   "cell_type": "code",
   "execution_count": 8,
   "id": "96f623c5-2911-4624-9d2e-1e95019e0930",
   "metadata": {},
   "outputs": [
    {
     "name": "stdout",
     "output_type": "stream",
     "text": [
      "957 ns ± 11.4 ns per loop (mean ± std. dev. of 7 runs, 1000000 loops each)\n"
     ]
    }
   ],
   "source": [
    "%timeit 1 / values"
   ]
  },
  {
   "cell_type": "markdown",
   "id": "10a84af4-3de1-46db-9b61-cba837ede2ea",
   "metadata": {},
   "source": [
    "由以上为啥要用向量化操作，因为效率高！"
   ]
  },
  {
   "cell_type": "markdown",
   "id": "2374d427-8b94-463a-b492-4ee425beca28",
   "metadata": {},
   "source": [
    "----"
   ]
  },
  {
   "cell_type": "markdown",
   "id": "ca417918-4f51-452c-bd25-58e8fa8295cf",
   "metadata": {},
   "source": [
    "|通用函数|特点|\n",
    "|-------|----|\n",
    "|一元通用函数|单输入|\n",
    "|二元通用函数|双输入|"
   ]
  },
  {
   "cell_type": "markdown",
   "id": "cbcb490e-a9fd-4b66-86fa-72f4b0efc352",
   "metadata": {},
   "source": [
    "### 数组运算"
   ]
  },
  {
   "cell_type": "markdown",
   "id": "f9416f8f-4b91-4cf1-9881-728a8f6caf93",
   "metadata": {},
   "source": [
    "|运算符|对应通用函数|描述|\n",
    "|-----|------------|---|\n",
    "|+|np.add|加|\n",
    "|-|np.subtract|减|\n",
    "|*|np.multiply|乘|\n",
    "|/|np.divide|除|\n",
    "|**|np.power|求幂|\n",
    "|-|np.negative|负数|\n",
    "|//|np.floor_divide|向下整除|\n",
    "|%|np.mod|模/余数|\n",
    "||np.abs|绝对值|"
   ]
  },
  {
   "cell_type": "code",
   "execution_count": 12,
   "id": "17927bc1-4ee6-47a4-9588-08193efa2bd3",
   "metadata": {},
   "outputs": [
    {
     "name": "stdout",
     "output_type": "stream",
     "text": [
      "x = [-4 -3 -2 -1  0]\n",
      "x + 1= [-3 -2 -1  0  1]\n",
      "x - 1= [-5 -4 -3 -2 -1]\n",
      "x * 2= [-8 -6 -4 -2  0]\n",
      "x / 2= [-2.  -1.5 -1.  -0.5  0. ]\n",
      "x ** 2= [16  9  4  1  0]\n",
      "x // 2= [-2 -2 -1 -1  0]\n",
      "x % 2= [0 1 0 1 0]\n",
      "|x|= [4 3 2 1 0]\n"
     ]
    }
   ],
   "source": [
    "x = np.arange(-4,1)\n",
    "print('x =',x)\n",
    "print('x + 1=',x + 1)\n",
    "print('x - 1=',x - 1)\n",
    "print('x * 2=',x * 2)\n",
    "print('x / 2=',x / 2)\n",
    "print('x ** 2=',x ** 2)\n",
    "print('x // 2=',x // 2)\n",
    "print('x % 2=',x % 2)\n",
    "print('|x|=',np.abs(x))"
   ]
  },
  {
   "cell_type": "markdown",
   "id": "5a0a91c9-9f9f-466d-be77-7f517b82287c",
   "metadata": {},
   "source": [
    "### 三角函数"
   ]
  },
  {
   "cell_type": "code",
   "execution_count": 24,
   "id": "527db275-c22e-4d38-ae9c-a1b447050975",
   "metadata": {},
   "outputs": [],
   "source": [
    "alpha = np.linspace(-np.pi/2,np.pi/2,3)"
   ]
  },
  {
   "cell_type": "code",
   "execution_count": 27,
   "id": "6ffc9e02-05d6-496c-a410-a029020f1368",
   "metadata": {},
   "outputs": [],
   "source": [
    "sin = np.sin(alpha)\n",
    "cos = np.cos(alpha)\n",
    "tan = np.tan(alpha)"
   ]
  },
  {
   "cell_type": "code",
   "execution_count": 28,
   "id": "c027d2b8-c9f5-426a-a956-172651301aa6",
   "metadata": {},
   "outputs": [
    {
     "name": "stdout",
     "output_type": "stream",
     "text": [
      "sin(alpha): [-1.  0.  1.]\n",
      "cos(alpha): [6.123234e-17 1.000000e+00 6.123234e-17]\n",
      "tan(alpha): [-1.63312394e+16  0.00000000e+00  1.63312394e+16]\n"
     ]
    }
   ],
   "source": [
    "print('sin(alpha):',sin)\n",
    "print('cos(alpha):',cos)\n",
    "print('tan(alpha):',tan)"
   ]
  },
  {
   "cell_type": "code",
   "execution_count": 29,
   "id": "0e3b5425-408c-42a2-83bc-307289972773",
   "metadata": {},
   "outputs": [
    {
     "name": "stdout",
     "output_type": "stream",
     "text": [
      "arcsin(alpha): [-1.57079633  0.          1.57079633]\n",
      "arccos(alpha): [1.57079633 0.         1.57079633]\n",
      "arctan(alpha): [-1.57079633  0.          1.57079633]\n"
     ]
    }
   ],
   "source": [
    "print('arcsin(alpha):',np.arcsin(sin))\n",
    "print('arccos(alpha):',np.arccos(cos))\n",
    "print('arctan(alpha):',np.arctan(tan))"
   ]
  },
  {
   "cell_type": "markdown",
   "id": "668e962a-72c4-48be-9f8a-08f43d55e869",
   "metadata": {},
   "source": [
    "### 指数&对数"
   ]
  },
  {
   "cell_type": "code",
   "execution_count": 31,
   "id": "665b9c45-20b3-43d1-a58f-320a92bdf6a9",
   "metadata": {},
   "outputs": [],
   "source": [
    "x = np.arange(1,4)"
   ]
  },
  {
   "cell_type": "code",
   "execution_count": 32,
   "id": "45714ba0-9e1d-4367-8dab-be704a120f9d",
   "metadata": {},
   "outputs": [
    {
     "name": "stdout",
     "output_type": "stream",
     "text": [
      "x =  [1 2 3]\n",
      "e^x =  [ 2.71828183  7.3890561  20.08553692]\n",
      "2^x =  [2. 4. 8.]\n",
      "3^x =  [ 3  9 27]\n"
     ]
    }
   ],
   "source": [
    "print('x = ',x)\n",
    "print('e^x = ',np.exp(x))\n",
    "print('2^x = ',np.exp2(x))\n",
    "print('3^x = ',np.power(3,x))"
   ]
  },
  {
   "cell_type": "code",
   "execution_count": 33,
   "id": "89385816-4622-413d-8b2f-a164547e9ede",
   "metadata": {},
   "outputs": [
    {
     "name": "stdout",
     "output_type": "stream",
     "text": [
      "x =  [1, 2.718281828459045, 2, 4, 10]\n",
      "ln(x) =  [0.         1.         0.69314718 1.38629436 2.30258509]\n",
      "log2(x) =  [0.         1.44269504 1.         2.         3.32192809]\n",
      "log10(x) =  [0.         0.43429448 0.30103    0.60205999 1.        ]\n"
     ]
    }
   ],
   "source": [
    "x = [1,np.e,2,4,10]\n",
    "print('x = ',x)\n",
    "print('ln(x) = ',np.log(x))\n",
    "print('log2(x) = ',np.log2(x))\n",
    "print('log10(x) = ',np.log10(x))"
   ]
  },
  {
   "cell_type": "markdown",
   "id": "1ed92598-5192-4ec2-9701-acdd05469256",
   "metadata": {},
   "source": [
    "### 指定输出(推荐使用，节省内存)"
   ]
  },
  {
   "cell_type": "code",
   "execution_count": 39,
   "id": "5796f7c3-fdec-4102-8dd0-15195b88f619",
   "metadata": {},
   "outputs": [
    {
     "name": "stdout",
     "output_type": "stream",
     "text": [
      "[0 1 2 3 4]\n",
      "[ 0. 10. 20. 30. 40.]\n"
     ]
    }
   ],
   "source": [
    "x = np.arange(5)\n",
    "y = np.empty(5)\n",
    "np.multiply(x,10,out=y)\n",
    "print(x)\n",
    "print(y)"
   ]
  }
 ],
 "metadata": {
  "kernelspec": {
   "display_name": "Python 3",
   "language": "python",
   "name": "python3"
  },
  "language_info": {
   "codemirror_mode": {
    "name": "ipython",
    "version": 3
   },
   "file_extension": ".py",
   "mimetype": "text/x-python",
   "name": "python",
   "nbconvert_exporter": "python",
   "pygments_lexer": "ipython3",
   "version": "3.8.8"
  }
 },
 "nbformat": 4,
 "nbformat_minor": 5
}
